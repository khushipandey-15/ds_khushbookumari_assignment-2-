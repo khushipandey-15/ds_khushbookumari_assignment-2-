{
  "nbformat": 4,
  "nbformat_minor": 0,
  "metadata": {
    "colab": {
      "provenance": []
    },
    "kernelspec": {
      "name": "python3",
      "display_name": "Python 3"
    },
    "language_info": {
      "name": "python"
    }
  },
  "cells": [
    {
      "cell_type": "markdown",
      "source": [
        "1) Imports & Config"
      ],
      "metadata": {
        "id": "Kh8p2LmATD8O"
      }
    },
    {
      "cell_type": "code",
      "execution_count": 6,
      "metadata": {
        "colab": {
          "base_uri": "https://localhost:8080/"
        },
        "id": "F8t39w5CWGhm",
        "outputId": "73b1e6d9-bae7-44f0-b60b-e557e6efc869"
      },
      "outputs": [
        {
          "output_type": "stream",
          "name": "stdout",
          "text": [
            "Columns: Index(['Account', 'Coin', 'Execution Price', 'Size Tokens', 'Size USD', 'Side',\n",
            "       'Timestamp IST', 'Start Position', 'Direction', 'Closed PnL',\n",
            "       'Transaction Hash', 'Order ID', 'Crossed', 'Fee', 'Trade ID',\n",
            "       'Timestamp'],\n",
            "      dtype='object')\n",
            "                 Date    Close    Return\n",
            "0 2023-01-05 01:06:00   156.39       NaN\n",
            "1 2023-01-05 01:06:00   137.08 -0.123473\n",
            "2 2023-01-05 01:06:00   183.53  0.338853\n",
            "3 2023-05-12 03:11:00  1100.11  4.994170\n",
            "4 2023-05-12 03:11:00  1935.95  0.759779\n"
          ]
        }
      ],
      "source": [
        "import numpy as np\n",
        "import matplotlib.pyplot as plt\n",
        "import pandas as pd\n",
        "\n",
        "# Load CSV\n",
        "df = pd.read_csv(\"historical_data (1).csv\")\n",
        "\n",
        "# Check column names\n",
        "print(\"Columns:\", df.columns)\n",
        "\n",
        "# Use the timestamp column instead of \"Date\"\n",
        "if 'Timestamp IST' in df.columns:\n",
        "    df['Date'] = pd.to_datetime(df['Timestamp IST'], errors='coerce')\n",
        "elif 'Timestamp' in df.columns:\n",
        "    df['Date'] = pd.to_datetime(df['Timestamp'], errors='coerce')\n",
        "else:\n",
        "    raise ValueError(\"No timestamp column found in CSV\")\n",
        "\n",
        "df = df.sort_values('Date').reset_index(drop=True)\n",
        "\n",
        "# Standardize Close/Price column\n",
        "if 'Close' in df.columns:\n",
        "    df = df[['Date', 'Close']]\n",
        "elif 'Adj Close' in df.columns:\n",
        "    df = df[['Date', 'Adj Close']].rename(columns={'Adj Close': 'Close'})\n",
        "elif 'Price' in df.columns:\n",
        "    df = df[['Date', 'Price']].rename(columns={'Price': 'Close'})\n",
        "elif 'Size USD' in df.columns:  # <-- looks like your file has trade prices here\n",
        "    df = df[['Date', 'Size USD']].rename(columns={'Size USD': 'Close'})\n",
        "else:\n",
        "    raise ValueError(\"Could not find a Close/Adj Close/Price/Size USD column in your CSV\")\n",
        "\n",
        "# Compute daily returns\n",
        "df['Return'] = df['Close'].pct_change()\n",
        "\n",
        "print(df.head())\n"
      ]
    },
    {
      "cell_type": "markdown",
      "source": [
        "2) Load Local BTC Price Data"
      ],
      "metadata": {
        "id": "3Bz-NWopTHQl"
      }
    },
    {
      "cell_type": "code",
      "source": [
        "\n",
        "\n",
        "# Handle timestamp\n",
        "if 'Timestamp IST' in px.columns:\n",
        "    px['Date'] = pd.to_datetime(px['Timestamp IST'], errors='coerce')\n",
        "elif 'Timestamp' in px.columns:\n",
        "    px['Date'] = pd.to_datetime(px['Timestamp'], errors='coerce')\n",
        "else:\n",
        "    raise ValueError(\"No valid timestamp column found in CSV\")\n",
        "\n",
        "# Try to detect price column\n",
        "price_cols = [c for c in px.columns if c.lower() in ['close', 'adj close', 'price', 'size usd']]\n",
        "if not price_cols:\n",
        "    # fallback: pick the *first numeric column* that isn’t Date/IDs\n",
        "    num_cols = [c for c in px.columns if pd.api.types.is_numeric_dtype(px[c])]\n",
        "    if not num_cols:\n",
        "        raise ValueError(\"Could not find a numeric price column in the CSV\")\n",
        "    close_col = num_cols[0]  # choose first numeric column\n",
        "else:\n",
        "    close_col = price_cols[0]\n",
        "\n",
        "# Standardize\n",
        "px = px[['Date', close_col]].rename(columns={close_col: 'Close'})\n",
        "px = px.dropna().sort_values('Date').reset_index(drop=True)\n",
        "\n",
        "# Daily returns\n",
        "px['Ret'] = px['Close'].pct_change()\n",
        "\n",
        "print(px.head())\n"
      ],
      "metadata": {
        "colab": {
          "base_uri": "https://localhost:8080/"
        },
        "id": "XfHa8ajFTJ-t",
        "outputId": "c28fd00c-561a-4511-b2d1-240d8a2eae64"
      },
      "execution_count": 8,
      "outputs": [
        {
          "output_type": "stream",
          "name": "stdout",
          "text": [
            "                 Date    Close       Ret\n",
            "0 2023-01-05 01:06:00   156.39       NaN\n",
            "1 2023-01-05 01:06:00   137.08 -0.123473\n",
            "2 2023-01-05 01:06:00   183.53  0.338853\n",
            "3 2023-05-12 03:11:00  1100.11  4.994170\n",
            "4 2023-05-12 03:11:00  1935.95  0.759779\n"
          ]
        }
      ]
    },
    {
      "cell_type": "markdown",
      "source": [
        "3) Create “Sentiment Proxies” from Price\n",
        "\n"
      ],
      "metadata": {
        "id": "OppaLoYxXI85"
      }
    },
    {
      "cell_type": "code",
      "source": [
        "# 30-day volatility as fear proxy\n",
        "px['Volatility'] = px['Ret'].rolling(30).std()\n",
        "\n",
        "# 30-day momentum as greed proxy\n",
        "px['Momentum'] = px['Close'] / px['Close'].shift(30) - 1\n",
        "\n",
        "# Z-score of daily returns\n",
        "px['Zscore'] = (px['Ret'] - px['Ret'].rolling(30).mean()) / px['Ret'].rolling(30).std()\n"
      ],
      "metadata": {
        "id": "4-Pzak3LXKZu"
      },
      "execution_count": 9,
      "outputs": []
    },
    {
      "cell_type": "markdown",
      "source": [
        "4) Trading Strategies"
      ],
      "metadata": {
        "id": "gAELK8wqXQKF"
      }
    },
    {
      "cell_type": "code",
      "source": [
        "# Strategy A: Follower (go long if momentum > 0)\n",
        "px['A_pos'] = (px['Momentum'] > 0).astype(int)\n",
        "\n",
        "# Strategy B: Contrarian (go long if volatility is high -> expecting rebound)\n",
        "px['B_pos'] = (px['Volatility'] > px['Volatility'].rolling(60).mean()).astype(int)\n",
        "\n",
        "# Strategy C: Extreme fear (long if Z-score < -1)\n",
        "px['C_pos'] = (px['Zscore'] < -1).astype(int)\n",
        "\n",
        "# Buy & Hold benchmark\n",
        "px['BH_ret'] = px['Ret']\n",
        "\n",
        "# Apply returns with transaction costs\n",
        "perf = px[['Date','Ret','BH_ret','A_pos','B_pos','C_pos']].dropna()\n",
        "for col in ['A_pos','B_pos','C_pos']:\n",
        "    perf[f'{col}_ret_gross'] = perf[col].shift(1) * perf['Ret']\n",
        "    turnover = (perf[col].shift(1).fillna(0) - perf[col]).abs()\n",
        "    tc = (TX_COST_BPS / 10000.0) * turnover\n",
        "    perf[f'{col}_ret_net'] = perf[f'{col}_ret_gross'] - tc\n",
        "\n",
        "perf['BH_ret_net'] = perf['BH_ret']\n"
      ],
      "metadata": {
        "id": "MNmE9wyZXRkR"
      },
      "execution_count": 10,
      "outputs": []
    },
    {
      "cell_type": "markdown",
      "source": [
        "5) Performance Metrics"
      ],
      "metadata": {
        "id": "PDtmV-G8XXqZ"
      }
    },
    {
      "cell_type": "code",
      "source": [
        "def perf_stats(returns, freq=365, name='strategy'):\n",
        "    r = pd.to_numeric(returns, errors='coerce').dropna()   # <--- ensure numeric\n",
        "    if len(r) == 0:\n",
        "        return {'name': name, 'CAGR': np.nan, 'Vol': np.nan,\n",
        "                'Sharpe': np.nan, 'MaxDD': np.nan}\n",
        "\n",
        "    cum = (1 + r).prod()\n",
        "    years = (r.index[-1] - r.index[0]).days / 365.25\n",
        "    cagr = cum**(1/years) - 1 if years > 0 else np.nan\n",
        "\n",
        "    vol = r.std() * np.sqrt(freq)\n",
        "    sharpe = (r.mean() * freq - RISK_FREE * freq) / (r.std() * np.sqrt(freq)) if r.std() > 0 else np.nan\n",
        "\n",
        "    eq = (1 + r).cumprod()\n",
        "    dd = (eq / eq.cummax() - 1).min()\n",
        "\n",
        "    return {'name': name, 'CAGR': cagr, 'Vol': vol, 'Sharpe': sharpe, 'MaxDD': dd}\n"
      ],
      "metadata": {
        "id": "eK5N54z7YWzw"
      },
      "execution_count": 12,
      "outputs": []
    },
    {
      "cell_type": "code",
      "source": [
        "\n",
        "perf = perf.dropna().copy()\n",
        "perf.index = pd.to_datetime(perf['Date'])\n",
        "\n",
        "results = [perf_stats(perf['BH_ret_net'], name='Buy&Hold')]\n",
        "for col in ['A_pos', 'B_pos', 'C_pos']:\n",
        "    results.append(perf_stats(perf[f'{col}_ret_net'], name=col.replace('_pos','')))\n",
        "\n",
        "stats_df = pd.DataFrame(results)\n",
        "print(\"==== Performance Summary ====\")\n",
        "print(stats_df)\n"
      ],
      "metadata": {
        "colab": {
          "base_uri": "https://localhost:8080/"
        },
        "id": "H-e2ecP5XYsD",
        "outputId": "1868636c-e246-41cf-df41-ace2c23a6af6"
      },
      "execution_count": 15,
      "outputs": [
        {
          "output_type": "stream",
          "name": "stdout",
          "text": [
            "==== Performance Summary ====\n",
            "       name          CAGR           Vol    Sharpe     MaxDD\n",
            "0  Buy&Hold -1.000000e+00  69629.590290  0.387877 -1.000000\n",
            "1         A -1.000000e+00   1318.859571  0.641303 -1.000000\n",
            "2         B -1.000000e+00  15741.514095  0.526252 -1.000000\n",
            "3         C  1.076813e+20   9261.375725  0.071750 -0.958013\n"
          ]
        }
      ]
    },
    {
      "cell_type": "markdown",
      "source": [
        "6) Plots"
      ],
      "metadata": {
        "id": "xCSQuxgkZpbd"
      }
    },
    {
      "cell_type": "code",
      "source": [
        "if MAX_PLOTS:\n",
        "    eq = pd.DataFrame(index=perf.index)\n",
        "    eq['Buy&Hold'] = (1 + perf['BH_ret_net']).cumprod()\n",
        "    eq['Follower (A)'] = (1 + perf['A_pos_ret_net']).cumprod()\n",
        "    eq['Contrarian (B)'] = (1 + perf['B_pos_ret_net']).cumprod()\n",
        "    eq['Extreme Fear (C)'] = (1 + perf['C_pos_ret_net']).cumprod()\n",
        "\n",
        "    eq.plot(figsize=(12,6), linewidth=1.2, title=\"Equity Curves: Strategies vs Buy & Hold\")\n",
        "    plt.ylabel(\"Growth of $1\")\n",
        "    plt.show()\n"
      ],
      "metadata": {
        "colab": {
          "base_uri": "https://localhost:8080/",
          "height": 537
        },
        "id": "pDfDITsSZsiY",
        "outputId": "f25549fe-299f-430e-f67e-b22175d79027"
      },
      "execution_count": 19,
      "outputs": [
        {
          "output_type": "display_data",
          "data": {
            "text/plain": [
              "<Figure size 1200x600 with 1 Axes>"
            ],
            "image/png": "[encoded data removed]"
          },
          "metadata": {}
        }
      ]
    }
  ]
}